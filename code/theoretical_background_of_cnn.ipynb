{
 "cells": [
  {
   "cell_type": "markdown",
   "metadata": {},
   "source": [
    "### Little bit more about CNN model"
   ]
  },
  {
   "cell_type": "markdown",
   "metadata": {},
   "source": [
    "Let's know more about a CNN model:\n",
    "\n",
    "In CNN modeling we use (and would use afterward) lots of arguments, hyper-parameters. A few of them are briefly explained below:\n",
    "\n",
    "- **Epoch** refers to the number of times an entire dataset passed forward and backward through the neural network. So, in our model Epoch 48 means our entire dataset would be passed forward and backward through the neural networks fr 48 times.\n",
    "\n",
    "- **ReLU** stands for **RE**ctified **L**inear **U**nit and is the most commonly used activation function in neural networks, especially in CNNs. ReLU is linear (identity) for all positive values, and zero for all negative values. It in effect results in faster converges.\n",
    "\n",
    "- **Convolutional layers** in a convolutional neural network (CNN) summarize the presence of features in an input image. It is typically used for edge detection. Conv2D() is a 2D convolution typically used for 2D image data.\n",
    "\n",
    "![Convo](../images_and_gifs/convo.gif) (*gif source:google*)\n",
    "\n",
    "- **Max pooling** calculates the maximum value for each patch of the feature map. it is used for dimensionality reduction\n",
    "\n",
    "![maxpooling](../images_and_gifs/maxpool_animation.gif) (*gif source:google*)\n",
    "\n",
    "- **Dropout** is one type of regularization technique that is used to avoid overfitting (increase the validation accuracy) thus increasing the generalizing power.\n",
    "\n",
    "- **Sigmoid** activation function is traditionally used for binary classification. In Sigmoid, the input to the function is transformed into a value between 0.0 and 1.0\n",
    "\n",
    "Reference:[1] [2] [3] [4] [5]"
   ]
  },
  {
   "cell_type": "code",
   "execution_count": null,
   "metadata": {},
   "outputs": [],
   "source": []
  }
 ],
 "metadata": {
  "kernelspec": {
   "display_name": "Python 3",
   "language": "python",
   "name": "python3"
  },
  "language_info": {
   "codemirror_mode": {
    "name": "ipython",
    "version": 3
   },
   "file_extension": ".py",
   "mimetype": "text/x-python",
   "name": "python",
   "nbconvert_exporter": "python",
   "pygments_lexer": "ipython3",
   "version": "3.7.6"
  }
 },
 "nbformat": 4,
 "nbformat_minor": 4
}
